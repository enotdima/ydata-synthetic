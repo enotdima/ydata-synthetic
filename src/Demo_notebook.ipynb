{
 "cells": [
  {
   "cell_type": "markdown",
   "id": "specialized-default",
   "metadata": {},
   "source": [
    "## 1. Get preprocessed data with a help of Dask"
   ]
  },
  {
   "cell_type": "code",
   "execution_count": 2,
   "id": "tutorial-nightmare",
   "metadata": {},
   "outputs": [],
   "source": [
    "from ydata_synthetic.evaluate import evaluator\n",
    "from ydata_synthetic.synthesizers.regular import wgangp\n",
    "from ydata_synthetic.preprocessing.adult_dask import transformations\n",
    "from ydata_synthetic.synthesizers.regular.wgangp import model"
   ]
  },
  {
   "cell_type": "code",
   "execution_count": 3,
   "id": "marine-messenger",
   "metadata": {},
   "outputs": [],
   "source": [
    "processed_data, preprocessor = transformations()"
   ]
  },
  {
   "cell_type": "code",
   "execution_count": 4,
   "id": "intelligent-foster",
   "metadata": {},
   "outputs": [
    {
     "data": {
      "text/html": [
       "<div>\n",
       "<style scoped>\n",
       "    .dataframe tbody tr th:only-of-type {\n",
       "        vertical-align: middle;\n",
       "    }\n",
       "\n",
       "    .dataframe tbody tr th {\n",
       "        vertical-align: top;\n",
       "    }\n",
       "\n",
       "    .dataframe thead th {\n",
       "        text-align: right;\n",
       "    }\n",
       "</style>\n",
       "<table border=\"1\" class=\"dataframe\">\n",
       "  <thead>\n",
       "    <tr style=\"text-align: right;\">\n",
       "      <th></th>\n",
       "      <th>age</th>\n",
       "      <th>fnlwgt</th>\n",
       "      <th>capital-gain</th>\n",
       "      <th>capital-loss</th>\n",
       "      <th>hours-per-week</th>\n",
       "      <th>workclass_0</th>\n",
       "      <th>workclass_1</th>\n",
       "      <th>workclass_2</th>\n",
       "      <th>workclass_3</th>\n",
       "      <th>workclass_4</th>\n",
       "      <th>...</th>\n",
       "      <th>relationship_4</th>\n",
       "      <th>relationship_5</th>\n",
       "      <th>race_0</th>\n",
       "      <th>race_1</th>\n",
       "      <th>race_2</th>\n",
       "      <th>race_3</th>\n",
       "      <th>race_4</th>\n",
       "      <th>sex_0</th>\n",
       "      <th>sex_1</th>\n",
       "      <th>target</th>\n",
       "    </tr>\n",
       "  </thead>\n",
       "  <tbody>\n",
       "    <tr>\n",
       "      <th>0</th>\n",
       "      <td>0.025996</td>\n",
       "      <td>-1.061979</td>\n",
       "      <td>0.146932</td>\n",
       "      <td>-0.217127</td>\n",
       "      <td>-0.034087</td>\n",
       "      <td>0.0</td>\n",
       "      <td>0.0</td>\n",
       "      <td>0.0</td>\n",
       "      <td>0.0</td>\n",
       "      <td>0.0</td>\n",
       "      <td>...</td>\n",
       "      <td>0.0</td>\n",
       "      <td>0.0</td>\n",
       "      <td>0.0</td>\n",
       "      <td>0.0</td>\n",
       "      <td>0.0</td>\n",
       "      <td>0.0</td>\n",
       "      <td>1.0</td>\n",
       "      <td>0.0</td>\n",
       "      <td>1.0</td>\n",
       "      <td>1</td>\n",
       "    </tr>\n",
       "    <tr>\n",
       "      <th>1</th>\n",
       "      <td>0.828308</td>\n",
       "      <td>-1.007104</td>\n",
       "      <td>-0.144804</td>\n",
       "      <td>-0.217127</td>\n",
       "      <td>-2.213032</td>\n",
       "      <td>0.0</td>\n",
       "      <td>0.0</td>\n",
       "      <td>0.0</td>\n",
       "      <td>0.0</td>\n",
       "      <td>0.0</td>\n",
       "      <td>...</td>\n",
       "      <td>0.0</td>\n",
       "      <td>0.0</td>\n",
       "      <td>0.0</td>\n",
       "      <td>0.0</td>\n",
       "      <td>0.0</td>\n",
       "      <td>0.0</td>\n",
       "      <td>1.0</td>\n",
       "      <td>0.0</td>\n",
       "      <td>1.0</td>\n",
       "      <td>1</td>\n",
       "    </tr>\n",
       "    <tr>\n",
       "      <th>2</th>\n",
       "      <td>-0.046942</td>\n",
       "      <td>0.246034</td>\n",
       "      <td>-0.144804</td>\n",
       "      <td>-0.217127</td>\n",
       "      <td>-0.034087</td>\n",
       "      <td>0.0</td>\n",
       "      <td>0.0</td>\n",
       "      <td>0.0</td>\n",
       "      <td>0.0</td>\n",
       "      <td>1.0</td>\n",
       "      <td>...</td>\n",
       "      <td>0.0</td>\n",
       "      <td>0.0</td>\n",
       "      <td>0.0</td>\n",
       "      <td>0.0</td>\n",
       "      <td>0.0</td>\n",
       "      <td>0.0</td>\n",
       "      <td>1.0</td>\n",
       "      <td>0.0</td>\n",
       "      <td>1.0</td>\n",
       "      <td>1</td>\n",
       "    </tr>\n",
       "    <tr>\n",
       "      <th>3</th>\n",
       "      <td>1.047121</td>\n",
       "      <td>0.426663</td>\n",
       "      <td>-0.144804</td>\n",
       "      <td>-0.217127</td>\n",
       "      <td>-0.034087</td>\n",
       "      <td>0.0</td>\n",
       "      <td>0.0</td>\n",
       "      <td>0.0</td>\n",
       "      <td>0.0</td>\n",
       "      <td>1.0</td>\n",
       "      <td>...</td>\n",
       "      <td>0.0</td>\n",
       "      <td>0.0</td>\n",
       "      <td>0.0</td>\n",
       "      <td>0.0</td>\n",
       "      <td>1.0</td>\n",
       "      <td>0.0</td>\n",
       "      <td>0.0</td>\n",
       "      <td>0.0</td>\n",
       "      <td>1.0</td>\n",
       "      <td>1</td>\n",
       "    </tr>\n",
       "    <tr>\n",
       "      <th>4</th>\n",
       "      <td>-0.776316</td>\n",
       "      <td>1.408530</td>\n",
       "      <td>-0.144804</td>\n",
       "      <td>-0.217127</td>\n",
       "      <td>-0.034087</td>\n",
       "      <td>0.0</td>\n",
       "      <td>0.0</td>\n",
       "      <td>0.0</td>\n",
       "      <td>0.0</td>\n",
       "      <td>1.0</td>\n",
       "      <td>...</td>\n",
       "      <td>0.0</td>\n",
       "      <td>1.0</td>\n",
       "      <td>0.0</td>\n",
       "      <td>0.0</td>\n",
       "      <td>1.0</td>\n",
       "      <td>0.0</td>\n",
       "      <td>0.0</td>\n",
       "      <td>1.0</td>\n",
       "      <td>0.0</td>\n",
       "      <td>1</td>\n",
       "    </tr>\n",
       "    <tr>\n",
       "      <th>...</th>\n",
       "      <td>...</td>\n",
       "      <td>...</td>\n",
       "      <td>...</td>\n",
       "      <td>...</td>\n",
       "      <td>...</td>\n",
       "      <td>...</td>\n",
       "      <td>...</td>\n",
       "      <td>...</td>\n",
       "      <td>...</td>\n",
       "      <td>...</td>\n",
       "      <td>...</td>\n",
       "      <td>...</td>\n",
       "      <td>...</td>\n",
       "      <td>...</td>\n",
       "      <td>...</td>\n",
       "      <td>...</td>\n",
       "      <td>...</td>\n",
       "      <td>...</td>\n",
       "      <td>...</td>\n",
       "      <td>...</td>\n",
       "      <td>...</td>\n",
       "    </tr>\n",
       "    <tr>\n",
       "      <th>48837</th>\n",
       "      <td>0.025996</td>\n",
       "      <td>0.243884</td>\n",
       "      <td>-0.144804</td>\n",
       "      <td>-0.217127</td>\n",
       "      <td>-0.356894</td>\n",
       "      <td>0.0</td>\n",
       "      <td>0.0</td>\n",
       "      <td>0.0</td>\n",
       "      <td>0.0</td>\n",
       "      <td>1.0</td>\n",
       "      <td>...</td>\n",
       "      <td>0.0</td>\n",
       "      <td>0.0</td>\n",
       "      <td>0.0</td>\n",
       "      <td>0.0</td>\n",
       "      <td>0.0</td>\n",
       "      <td>0.0</td>\n",
       "      <td>1.0</td>\n",
       "      <td>1.0</td>\n",
       "      <td>0.0</td>\n",
       "      <td>1</td>\n",
       "    </tr>\n",
       "    <tr>\n",
       "      <th>48838</th>\n",
       "      <td>1.849433</td>\n",
       "      <td>1.247492</td>\n",
       "      <td>-0.144804</td>\n",
       "      <td>-0.217127</td>\n",
       "      <td>-0.034087</td>\n",
       "      <td>1.0</td>\n",
       "      <td>0.0</td>\n",
       "      <td>0.0</td>\n",
       "      <td>0.0</td>\n",
       "      <td>0.0</td>\n",
       "      <td>...</td>\n",
       "      <td>0.0</td>\n",
       "      <td>0.0</td>\n",
       "      <td>0.0</td>\n",
       "      <td>0.0</td>\n",
       "      <td>1.0</td>\n",
       "      <td>0.0</td>\n",
       "      <td>0.0</td>\n",
       "      <td>0.0</td>\n",
       "      <td>1.0</td>\n",
       "      <td>1</td>\n",
       "    </tr>\n",
       "    <tr>\n",
       "      <th>48839</th>\n",
       "      <td>-0.046942</td>\n",
       "      <td>1.754865</td>\n",
       "      <td>-0.144804</td>\n",
       "      <td>-0.217127</td>\n",
       "      <td>0.772930</td>\n",
       "      <td>0.0</td>\n",
       "      <td>0.0</td>\n",
       "      <td>0.0</td>\n",
       "      <td>0.0</td>\n",
       "      <td>1.0</td>\n",
       "      <td>...</td>\n",
       "      <td>0.0</td>\n",
       "      <td>0.0</td>\n",
       "      <td>0.0</td>\n",
       "      <td>0.0</td>\n",
       "      <td>0.0</td>\n",
       "      <td>0.0</td>\n",
       "      <td>1.0</td>\n",
       "      <td>0.0</td>\n",
       "      <td>1.0</td>\n",
       "      <td>1</td>\n",
       "    </tr>\n",
       "    <tr>\n",
       "      <th>48840</th>\n",
       "      <td>0.390683</td>\n",
       "      <td>-1.001612</td>\n",
       "      <td>0.587220</td>\n",
       "      <td>-0.217127</td>\n",
       "      <td>-0.034087</td>\n",
       "      <td>0.0</td>\n",
       "      <td>0.0</td>\n",
       "      <td>0.0</td>\n",
       "      <td>0.0</td>\n",
       "      <td>1.0</td>\n",
       "      <td>...</td>\n",
       "      <td>0.0</td>\n",
       "      <td>0.0</td>\n",
       "      <td>0.0</td>\n",
       "      <td>1.0</td>\n",
       "      <td>0.0</td>\n",
       "      <td>0.0</td>\n",
       "      <td>0.0</td>\n",
       "      <td>0.0</td>\n",
       "      <td>1.0</td>\n",
       "      <td>1</td>\n",
       "    </tr>\n",
       "    <tr>\n",
       "      <th>48841</th>\n",
       "      <td>-0.265754</td>\n",
       "      <td>-0.071174</td>\n",
       "      <td>-0.144804</td>\n",
       "      <td>-0.217127</td>\n",
       "      <td>1.579946</td>\n",
       "      <td>0.0</td>\n",
       "      <td>0.0</td>\n",
       "      <td>0.0</td>\n",
       "      <td>0.0</td>\n",
       "      <td>0.0</td>\n",
       "      <td>...</td>\n",
       "      <td>0.0</td>\n",
       "      <td>0.0</td>\n",
       "      <td>0.0</td>\n",
       "      <td>0.0</td>\n",
       "      <td>0.0</td>\n",
       "      <td>0.0</td>\n",
       "      <td>1.0</td>\n",
       "      <td>0.0</td>\n",
       "      <td>1.0</td>\n",
       "      <td>0</td>\n",
       "    </tr>\n",
       "  </tbody>\n",
       "</table>\n",
       "<p>48842 rows × 66 columns</p>\n",
       "</div>"
      ],
      "text/plain": [
       "            age    fnlwgt  capital-gain  capital-loss  hours-per-week  \\\n",
       "0      0.025996 -1.061979      0.146932     -0.217127       -0.034087   \n",
       "1      0.828308 -1.007104     -0.144804     -0.217127       -2.213032   \n",
       "2     -0.046942  0.246034     -0.144804     -0.217127       -0.034087   \n",
       "3      1.047121  0.426663     -0.144804     -0.217127       -0.034087   \n",
       "4     -0.776316  1.408530     -0.144804     -0.217127       -0.034087   \n",
       "...         ...       ...           ...           ...             ...   \n",
       "48837  0.025996  0.243884     -0.144804     -0.217127       -0.356894   \n",
       "48838  1.849433  1.247492     -0.144804     -0.217127       -0.034087   \n",
       "48839 -0.046942  1.754865     -0.144804     -0.217127        0.772930   \n",
       "48840  0.390683 -1.001612      0.587220     -0.217127       -0.034087   \n",
       "48841 -0.265754 -0.071174     -0.144804     -0.217127        1.579946   \n",
       "\n",
       "       workclass_0  workclass_1  workclass_2  workclass_3  workclass_4  ...  \\\n",
       "0              0.0          0.0          0.0          0.0          0.0  ...   \n",
       "1              0.0          0.0          0.0          0.0          0.0  ...   \n",
       "2              0.0          0.0          0.0          0.0          1.0  ...   \n",
       "3              0.0          0.0          0.0          0.0          1.0  ...   \n",
       "4              0.0          0.0          0.0          0.0          1.0  ...   \n",
       "...            ...          ...          ...          ...          ...  ...   \n",
       "48837          0.0          0.0          0.0          0.0          1.0  ...   \n",
       "48838          1.0          0.0          0.0          0.0          0.0  ...   \n",
       "48839          0.0          0.0          0.0          0.0          1.0  ...   \n",
       "48840          0.0          0.0          0.0          0.0          1.0  ...   \n",
       "48841          0.0          0.0          0.0          0.0          0.0  ...   \n",
       "\n",
       "       relationship_4  relationship_5  race_0  race_1  race_2  race_3  race_4  \\\n",
       "0                 0.0             0.0     0.0     0.0     0.0     0.0     1.0   \n",
       "1                 0.0             0.0     0.0     0.0     0.0     0.0     1.0   \n",
       "2                 0.0             0.0     0.0     0.0     0.0     0.0     1.0   \n",
       "3                 0.0             0.0     0.0     0.0     1.0     0.0     0.0   \n",
       "4                 0.0             1.0     0.0     0.0     1.0     0.0     0.0   \n",
       "...               ...             ...     ...     ...     ...     ...     ...   \n",
       "48837             0.0             0.0     0.0     0.0     0.0     0.0     1.0   \n",
       "48838             0.0             0.0     0.0     0.0     1.0     0.0     0.0   \n",
       "48839             0.0             0.0     0.0     0.0     0.0     0.0     1.0   \n",
       "48840             0.0             0.0     0.0     1.0     0.0     0.0     0.0   \n",
       "48841             0.0             0.0     0.0     0.0     0.0     0.0     1.0   \n",
       "\n",
       "       sex_0  sex_1  target  \n",
       "0        0.0    1.0       1  \n",
       "1        0.0    1.0       1  \n",
       "2        0.0    1.0       1  \n",
       "3        0.0    1.0       1  \n",
       "4        1.0    0.0       1  \n",
       "...      ...    ...     ...  \n",
       "48837    1.0    0.0       1  \n",
       "48838    0.0    1.0       1  \n",
       "48839    0.0    1.0       1  \n",
       "48840    0.0    1.0       1  \n",
       "48841    0.0    1.0       0  \n",
       "\n",
       "[48842 rows x 66 columns]"
      ]
     },
     "execution_count": 4,
     "metadata": {},
     "output_type": "execute_result"
    }
   ],
   "source": [
    "processed_data"
   ]
  },
  {
   "cell_type": "markdown",
   "id": "designing-beatles",
   "metadata": {},
   "source": [
    "## 2. Evaluate data"
   ]
  },
  {
   "cell_type": "markdown",
   "id": "sexual-measurement",
   "metadata": {},
   "source": [
    "###  2.1 Evaluate real data vs real data"
   ]
  },
  {
   "cell_type": "code",
   "execution_count": 12,
   "id": "pregnant-aspect",
   "metadata": {},
   "outputs": [
    {
     "name": "stdout",
     "output_type": "stream",
     "text": [
      "Top 5 PCA components:\n",
      "   real_data_pca  fake_data_pca\n",
      "0       1.522808       1.513951\n",
      "1       1.055745       1.027526\n",
      "2       1.020751       0.999268\n",
      "3       0.944357       0.926584\n",
      "4       0.906156       0.868855\n"
     ]
    }
   ],
   "source": [
    "eval_class = evaluator.EvaluateData(processed_data, processed_data, 20000)\n",
    "score_pca_real = eval_class.pca_correlation()\n",
    "results, score_ml_real = eval_class.set_ml_estimation()"
   ]
  },
  {
   "cell_type": "code",
   "execution_count": 13,
   "id": "ultimate-avatar",
   "metadata": {},
   "outputs": [
    {
     "name": "stdout",
     "output_type": "stream",
     "text": [
      "ML evaluation score 0.9148035116085675\n",
      "PCA evaluation score 0.9772851075151203\n"
     ]
    }
   ],
   "source": [
    "print(\"ML evaluation score\", score_ml_real)\n",
    "print(\"PCA evaluation score\", score_pca_real)"
   ]
  },
  {
   "cell_type": "code",
   "execution_count": 14,
   "id": "eastern-avatar",
   "metadata": {},
   "outputs": [
    {
     "data": {
      "text/html": [
       "<div>\n",
       "<style scoped>\n",
       "    .dataframe tbody tr th:only-of-type {\n",
       "        vertical-align: middle;\n",
       "    }\n",
       "\n",
       "    .dataframe tbody tr th {\n",
       "        vertical-align: top;\n",
       "    }\n",
       "\n",
       "    .dataframe thead th {\n",
       "        text-align: right;\n",
       "    }\n",
       "</style>\n",
       "<table border=\"1\" class=\"dataframe\">\n",
       "  <thead>\n",
       "    <tr style=\"text-align: right;\">\n",
       "      <th></th>\n",
       "      <th>real_data_f1</th>\n",
       "      <th>fake_data_f1</th>\n",
       "    </tr>\n",
       "    <tr>\n",
       "      <th>index</th>\n",
       "      <th></th>\n",
       "      <th></th>\n",
       "    </tr>\n",
       "  </thead>\n",
       "  <tbody>\n",
       "    <tr>\n",
       "      <th>LogisticRegression_real_test</th>\n",
       "      <td>0.851333</td>\n",
       "      <td>0.849467</td>\n",
       "    </tr>\n",
       "    <tr>\n",
       "      <th>LogisticRegression_fake_test</th>\n",
       "      <td>0.852867</td>\n",
       "      <td>0.853267</td>\n",
       "    </tr>\n",
       "    <tr>\n",
       "      <th>DecisionTreeClassifier_real_test</th>\n",
       "      <td>1.000000</td>\n",
       "      <td>0.866400</td>\n",
       "    </tr>\n",
       "    <tr>\n",
       "      <th>DecisionTreeClassifier_fake_test</th>\n",
       "      <td>0.868600</td>\n",
       "      <td>1.000000</td>\n",
       "    </tr>\n",
       "    <tr>\n",
       "      <th>RandomForestClassifier_real_test</th>\n",
       "      <td>0.993267</td>\n",
       "      <td>0.885867</td>\n",
       "    </tr>\n",
       "    <tr>\n",
       "      <th>RandomForestClassifier_fake_test</th>\n",
       "      <td>0.890533</td>\n",
       "      <td>0.993400</td>\n",
       "    </tr>\n",
       "  </tbody>\n",
       "</table>\n",
       "</div>"
      ],
      "text/plain": [
       "                                  real_data_f1  fake_data_f1\n",
       "index                                                       \n",
       "LogisticRegression_real_test          0.851333      0.849467\n",
       "LogisticRegression_fake_test          0.852867      0.853267\n",
       "DecisionTreeClassifier_real_test      1.000000      0.866400\n",
       "DecisionTreeClassifier_fake_test      0.868600      1.000000\n",
       "RandomForestClassifier_real_test      0.993267      0.885867\n",
       "RandomForestClassifier_fake_test      0.890533      0.993400"
      ]
     },
     "execution_count": 14,
     "metadata": {},
     "output_type": "execute_result"
    }
   ],
   "source": [
    "results"
   ]
  },
  {
   "cell_type": "markdown",
   "id": "informative-horizon",
   "metadata": {},
   "source": [
    "###  2.1 Evaluate real data vs fake data"
   ]
  },
  {
   "cell_type": "code",
   "execution_count": 15,
   "id": "noticed-customer",
   "metadata": {},
   "outputs": [
    {
     "name": "stderr",
     "output_type": "stream",
     "text": [
      "  2%|███▍                                                                                                                                                                           | 4/201 [00:02<01:20,  2.44it/s]"
     ]
    },
    {
     "name": "stdout",
     "output_type": "stream",
     "text": [
      "Iteration: 0 | disc_loss: 38.936058044433594 | gen_loss: 0.010258849710226059\n",
      "Iteration: 1 | disc_loss: 20.809507369995117 | gen_loss: 0.008445937186479568\n",
      "Iteration: 2 | disc_loss: 15.737884521484375 | gen_loss: 0.005744484253227711\n",
      "Iteration: 3 | disc_loss: 11.074752807617188 | gen_loss: 0.00559468287974596\n"
     ]
    },
    {
     "name": "stderr",
     "output_type": "stream",
     "text": [
      "  4%|██████▉                                                                                                                                                                        | 8/201 [00:02<00:34,  5.64it/s]"
     ]
    },
    {
     "name": "stdout",
     "output_type": "stream",
     "text": [
      "Iteration: 4 | disc_loss: 9.2372407913208 | gen_loss: 0.008237235248088837\n",
      "Iteration: 5 | disc_loss: 6.975252628326416 | gen_loss: 0.007715933956205845\n",
      "Iteration: 6 | disc_loss: 5.687011241912842 | gen_loss: 0.008811427280306816\n",
      "Iteration: 7 | disc_loss: 4.450337886810303 | gen_loss: 0.02015542984008789\n",
      "Iteration: 8 | disc_loss: 3.510256290435791 | gen_loss: 0.019585872069001198\n"
     ]
    },
    {
     "name": "stderr",
     "output_type": "stream",
     "text": [
      "  6%|██████████▍                                                                                                                                                                   | 12/201 [00:02<00:20,  9.10it/s]"
     ]
    },
    {
     "name": "stdout",
     "output_type": "stream",
     "text": [
      "Iteration: 9 | disc_loss: 2.927520275115967 | gen_loss: 0.018583150580525398\n",
      "Iteration: 10 | disc_loss: 1.8868234157562256 | gen_loss: 0.02925080806016922\n",
      "Iteration: 11 | disc_loss: 1.4158787727355957 | gen_loss: 0.03199990838766098\n",
      "Iteration: 12 | disc_loss: 1.1164839267730713 | gen_loss: 0.0336168110370636\n",
      "Iteration: 13 | disc_loss: 0.7527307868003845 | gen_loss: 0.03698856011033058\n"
     ]
    },
    {
     "name": "stderr",
     "output_type": "stream",
     "text": [
      "  9%|███████████████▌                                                                                                                                                              | 18/201 [00:02<00:12, 14.62it/s]"
     ]
    },
    {
     "name": "stdout",
     "output_type": "stream",
     "text": [
      "Iteration: 14 | disc_loss: 0.6172058582305908 | gen_loss: 0.04366973787546158\n",
      "Iteration: 15 | disc_loss: 0.3520587682723999 | gen_loss: 0.05615590140223503\n",
      "Iteration: 16 | disc_loss: 0.17270690202713013 | gen_loss: 0.0614900104701519\n",
      "Iteration: 17 | disc_loss: 0.08647900819778442 | gen_loss: 0.060652852058410645\n",
      "Iteration: 18 | disc_loss: 0.11687188595533371 | gen_loss: 0.06718922406435013\n"
     ]
    },
    {
     "name": "stderr",
     "output_type": "stream",
     "text": [
      " 12%|████████████████████▊                                                                                                                                                         | 24/201 [00:03<00:09, 18.15it/s]"
     ]
    },
    {
     "name": "stdout",
     "output_type": "stream",
     "text": [
      "Iteration: 19 | disc_loss: 0.025362037122249603 | gen_loss: 0.06848859786987305\n",
      "Iteration: 20 | disc_loss: -0.029195673763751984 | gen_loss: 0.08059978485107422\n",
      "Iteration: 21 | disc_loss: 0.02942577749490738 | gen_loss: 0.06238958239555359\n",
      "Iteration: 22 | disc_loss: 0.06553519517183304 | gen_loss: 0.058331891894340515\n",
      "Iteration: 23 | disc_loss: 0.014242369681596756 | gen_loss: 0.06553918123245239\n"
     ]
    },
    {
     "name": "stderr",
     "output_type": "stream",
     "text": [
      "\r",
      " 13%|███████████████████████▎                                                                                                                                                      | 27/201 [00:03<00:09, 18.94it/s]"
     ]
    },
    {
     "name": "stdout",
     "output_type": "stream",
     "text": [
      "Iteration: 24 | disc_loss: 0.026130929589271545 | gen_loss: 0.06293219327926636\n",
      "Iteration: 25 | disc_loss: 0.032171137630939484 | gen_loss: 0.05885409936308861\n",
      "Iteration: 26 | disc_loss: 0.007426675409078598 | gen_loss: 0.04911253973841667\n",
      "Iteration: 27 | disc_loss: 0.03340896964073181 | gen_loss: 0.046620190143585205\n",
      "Iteration: 28 | disc_loss: -0.006954219192266464 | gen_loss: 0.04558795318007469\n"
     ]
    },
    {
     "name": "stderr",
     "output_type": "stream",
     "text": [
      " 16%|████████████████████████████▌                                                                                                                                                 | 33/201 [00:03<00:09, 18.13it/s]"
     ]
    },
    {
     "name": "stdout",
     "output_type": "stream",
     "text": [
      "Iteration: 29 | disc_loss: -0.044997841119766235 | gen_loss: 0.0502314493060112\n",
      "Iteration: 30 | disc_loss: -0.041575368493795395 | gen_loss: 0.04569435119628906\n",
      "Iteration: 31 | disc_loss: -0.06547574698925018 | gen_loss: 0.05202983692288399\n",
      "Iteration: 32 | disc_loss: -0.06451918184757233 | gen_loss: 0.05369951203465462\n"
     ]
    },
    {
     "name": "stderr",
     "output_type": "stream",
     "text": [
      " 18%|████████████████████████████████                                                                                                                                              | 37/201 [00:03<00:09, 16.88it/s]"
     ]
    },
    {
     "name": "stdout",
     "output_type": "stream",
     "text": [
      "Iteration: 33 | disc_loss: -0.06030845642089844 | gen_loss: 0.05655026435852051\n",
      "Iteration: 34 | disc_loss: -0.05053533613681793 | gen_loss: 0.05372604727745056\n",
      "Iteration: 35 | disc_loss: -0.05205782502889633 | gen_loss: 0.06008688360452652\n",
      "Iteration: 36 | disc_loss: -0.06012128293514252 | gen_loss: 0.06492863595485687\n"
     ]
    },
    {
     "name": "stderr",
     "output_type": "stream",
     "text": [
      " 20%|███████████████████████████████████▍                                                                                                                                          | 41/201 [00:04<00:09, 17.54it/s]"
     ]
    },
    {
     "name": "stdout",
     "output_type": "stream",
     "text": [
      "Iteration: 37 | disc_loss: -0.07157266139984131 | gen_loss: 0.05957099050283432\n",
      "Iteration: 38 | disc_loss: -0.07499909400939941 | gen_loss: 0.056375183165073395\n",
      "Iteration: 39 | disc_loss: -0.06498435139656067 | gen_loss: 0.060855116695165634\n",
      "Iteration: 40 | disc_loss: -0.0721035748720169 | gen_loss: 0.06099167466163635\n",
      "Iteration: 41 | disc_loss: -0.06850939244031906 | gen_loss: 0.06967134028673172\n"
     ]
    },
    {
     "name": "stderr",
     "output_type": "stream",
     "text": [
      " 22%|██████████████████████████████████████▉                                                                                                                                       | 45/201 [00:04<00:08, 18.21it/s]"
     ]
    },
    {
     "name": "stdout",
     "output_type": "stream",
     "text": [
      "Iteration: 42 | disc_loss: -0.06340751051902771 | gen_loss: 0.06310617178678513\n",
      "Iteration: 43 | disc_loss: -0.07736580073833466 | gen_loss: 0.060279227793216705\n",
      "Iteration: 44 | disc_loss: -0.06607319414615631 | gen_loss: 0.06681713461875916\n",
      "Iteration: 45 | disc_loss: -0.07709325104951859 | gen_loss: 0.051656510680913925\n",
      "Iteration: 46 | disc_loss: -0.06506839394569397 | gen_loss: 0.06463057547807693\n"
     ]
    },
    {
     "name": "stderr",
     "output_type": "stream",
     "text": [
      " 25%|███████████████████████████████████████████▎                                                                                                                                  | 50/201 [00:04<00:08, 17.47it/s]"
     ]
    },
    {
     "name": "stdout",
     "output_type": "stream",
     "text": [
      "Iteration: 47 | disc_loss: -0.07892066985368729 | gen_loss: 0.05788486450910568\n",
      "Iteration: 48 | disc_loss: -0.08856324106454849 | gen_loss: 0.055351562798023224\n",
      "Iteration: 49 | disc_loss: -0.079697385430336 | gen_loss: 0.05862252414226532\n",
      "Iteration: 50 | disc_loss: -0.09208881855010986 | gen_loss: 0.03253600746393204\n"
     ]
    },
    {
     "name": "stderr",
     "output_type": "stream",
     "text": [
      " 27%|██████████████████████████████████████████████▋                                                                                                                               | 54/201 [00:04<00:08, 16.73it/s]"
     ]
    },
    {
     "name": "stdout",
     "output_type": "stream",
     "text": [
      "Iteration: 51 | disc_loss: -0.07571252435445786 | gen_loss: 0.07839104533195496\n",
      "Iteration: 52 | disc_loss: -0.04684731736779213 | gen_loss: 0.05507821589708328\n",
      "Iteration: 53 | disc_loss: -0.0817280262708664 | gen_loss: 0.04151530563831329\n",
      "Iteration: 54 | disc_loss: -0.07352974265813828 | gen_loss: 0.054790325462818146\n",
      "Iteration: 55 | disc_loss: -0.09851162880659103 | gen_loss: 0.058077916502952576\n"
     ]
    },
    {
     "name": "stderr",
     "output_type": "stream",
     "text": [
      " 30%|███████████████████████████████████████████████████▉                                                                                                                          | 60/201 [00:05<00:07, 19.31it/s]"
     ]
    },
    {
     "name": "stdout",
     "output_type": "stream",
     "text": [
      "Iteration: 56 | disc_loss: -0.10361596941947937 | gen_loss: 0.040446482598781586\n",
      "Iteration: 57 | disc_loss: -0.0982740968465805 | gen_loss: 0.034157637506723404\n",
      "Iteration: 58 | disc_loss: -0.09502420574426651 | gen_loss: 0.08702352643013\n",
      "Iteration: 59 | disc_loss: -0.07259339094161987 | gen_loss: 0.043960459530353546\n",
      "Iteration: 60 | disc_loss: -0.0942811369895935 | gen_loss: 0.050893399864435196\n"
     ]
    },
    {
     "name": "stderr",
     "output_type": "stream",
     "text": [
      " 33%|█████████████████████████████████████████████████████████▏                                                                                                                    | 66/201 [00:05<00:06, 20.64it/s]"
     ]
    },
    {
     "name": "stdout",
     "output_type": "stream",
     "text": [
      "Iteration: 61 | disc_loss: -0.06791836023330688 | gen_loss: 0.06014746427536011\n",
      "Iteration: 62 | disc_loss: -0.09922515600919724 | gen_loss: 0.04833225533366203\n",
      "Iteration: 63 | disc_loss: -0.11038453131914139 | gen_loss: 0.03542942553758621\n",
      "Iteration: 64 | disc_loss: -0.10851000994443893 | gen_loss: 0.06398029625415802\n",
      "Iteration: 65 | disc_loss: -0.09588562697172165 | gen_loss: 0.048926834017038345\n"
     ]
    },
    {
     "name": "stderr",
     "output_type": "stream",
     "text": [
      "\r",
      " 34%|███████████████████████████████████████████████████████████▋                                                                                                                  | 69/201 [00:05<00:06, 20.33it/s]"
     ]
    },
    {
     "name": "stdout",
     "output_type": "stream",
     "text": [
      "Iteration: 66 | disc_loss: -0.1044212132692337 | gen_loss: 0.06267969310283661\n",
      "Iteration: 67 | disc_loss: -0.1124039739370346 | gen_loss: 0.05620433762669563\n",
      "Iteration: 68 | disc_loss: -0.0988098755478859 | gen_loss: 0.05688708648085594\n",
      "Iteration: 69 | disc_loss: -0.10237163305282593 | gen_loss: 0.05436275154352188\n"
     ]
    },
    {
     "name": "stderr",
     "output_type": "stream",
     "text": [
      "\r",
      " 36%|██████████████████████████████████████████████████████████████▎                                                                                                               | 72/201 [00:05<00:07, 17.92it/s]"
     ]
    },
    {
     "name": "stdout",
     "output_type": "stream",
     "text": [
      "Iteration: 70 | disc_loss: -0.10593542456626892 | gen_loss: 0.059641871601343155\n",
      "Iteration: 71 | disc_loss: -0.101357102394104 | gen_loss: 0.06612379848957062\n",
      "Iteration: 72 | disc_loss: -0.11478796601295471 | gen_loss: 0.05871599167585373\n"
     ]
    },
    {
     "name": "stderr",
     "output_type": "stream",
     "text": [
      " 38%|█████████████████████████████████████████████████████████████████▊                                                                                                            | 76/201 [00:06<00:08, 15.21it/s]"
     ]
    },
    {
     "name": "stdout",
     "output_type": "stream",
     "text": [
      "Iteration: 73 | disc_loss: -0.1005711704492569 | gen_loss: 0.06811396777629852\n",
      "Iteration: 74 | disc_loss: -0.10767769813537598 | gen_loss: 0.06243232637643814\n",
      "Iteration: 75 | disc_loss: -0.11593357473611832 | gen_loss: 0.05924615263938904\n",
      "Iteration: 76 | disc_loss: -0.10658346861600876 | gen_loss: 0.06261934340000153\n"
     ]
    },
    {
     "name": "stderr",
     "output_type": "stream",
     "text": [
      " 40%|██████████████████████████████████████████████████████████████████████                                                                                                        | 81/201 [00:06<00:06, 17.75it/s]"
     ]
    },
    {
     "name": "stdout",
     "output_type": "stream",
     "text": [
      "Iteration: 77 | disc_loss: -0.09851746261119843 | gen_loss: 0.04921221733093262\n",
      "Iteration: 78 | disc_loss: -0.09896451234817505 | gen_loss: 0.10283179581165314\n",
      "Iteration: 79 | disc_loss: -0.09058842062950134 | gen_loss: 0.06637230515480042\n",
      "Iteration: 80 | disc_loss: -0.10294202715158463 | gen_loss: 0.058292463421821594\n",
      "Iteration: 81 | disc_loss: -0.10756859183311462 | gen_loss: 0.0610516332089901\n"
     ]
    },
    {
     "name": "stderr",
     "output_type": "stream",
     "text": [
      " 43%|██████████████████████████████████████████████████████████████████████████▍                                                                                                   | 86/201 [00:06<00:06, 16.85it/s]"
     ]
    },
    {
     "name": "stdout",
     "output_type": "stream",
     "text": [
      "Iteration: 82 | disc_loss: -0.08491607755422592 | gen_loss: 0.05165901780128479\n",
      "Iteration: 83 | disc_loss: -0.10873964428901672 | gen_loss: 0.0840635746717453\n",
      "Iteration: 84 | disc_loss: -0.10337856411933899 | gen_loss: 0.04368435591459274\n",
      "Iteration: 85 | disc_loss: -0.1007724180817604 | gen_loss: 0.10325536131858826\n"
     ]
    },
    {
     "name": "stderr",
     "output_type": "stream",
     "text": [
      " 45%|██████████████████████████████████████████████████████████████████████████████▊                                                                                               | 91/201 [00:06<00:05, 19.22it/s]"
     ]
    },
    {
     "name": "stdout",
     "output_type": "stream",
     "text": [
      "Iteration: 86 | disc_loss: -0.10161631554365158 | gen_loss: 0.06747165322303772\n",
      "Iteration: 87 | disc_loss: -0.09876085072755814 | gen_loss: 0.040283992886543274\n",
      "Iteration: 88 | disc_loss: -0.09355178475379944 | gen_loss: 0.09394493699073792\n",
      "Iteration: 89 | disc_loss: -0.08139926940202713 | gen_loss: 0.0667911246418953\n",
      "Iteration: 90 | disc_loss: -0.10758590698242188 | gen_loss: 0.049055710434913635\n",
      "Iteration: 91 | disc_loss: -0.11653152853250504 | gen_loss: 0.045335665345191956\n"
     ]
    },
    {
     "name": "stderr",
     "output_type": "stream",
     "text": [
      " 47%|██████████████████████████████████████████████████████████████████████████████████▏                                                                                           | 95/201 [00:07<00:05, 19.04it/s]"
     ]
    },
    {
     "name": "stdout",
     "output_type": "stream",
     "text": [
      "Iteration: 92 | disc_loss: -0.08902869373559952 | gen_loss: 0.07269704341888428\n",
      "Iteration: 93 | disc_loss: -0.10275521874427795 | gen_loss: 0.05833490937948227\n",
      "Iteration: 94 | disc_loss: -0.11078585684299469 | gen_loss: 0.03938489407300949\n",
      "Iteration: 95 | disc_loss: -0.10952062159776688 | gen_loss: 0.06953947246074677\n"
     ]
    },
    {
     "name": "stderr",
     "output_type": "stream",
     "text": [
      "\r",
      " 49%|████████████████████████████████████████████████████████████████████████████████████▊                                                                                         | 98/201 [00:07<00:05, 19.30it/s]"
     ]
    },
    {
     "name": "stdout",
     "output_type": "stream",
     "text": [
      "Iteration: 96 | disc_loss: -0.0689932331442833 | gen_loss: 0.060113318264484406\n",
      "Iteration: 97 | disc_loss: -0.08874532580375671 | gen_loss: 0.061779674142599106\n",
      "Iteration: 98 | disc_loss: -0.08649050444364548 | gen_loss: 0.06644958257675171\n",
      "Iteration: 99 | disc_loss: -0.10849353671073914 | gen_loss: 0.048766907304525375\n",
      "Iteration: 100 | disc_loss: -0.11146779358386993 | gen_loss: 0.05849284306168556\n"
     ]
    },
    {
     "name": "stderr",
     "output_type": "stream",
     "text": [
      " 53%|███████████████████████████████████████████████████████████████████████████████████████████▏                                                                                 | 106/201 [00:07<00:04, 19.99it/s]"
     ]
    },
    {
     "name": "stdout",
     "output_type": "stream",
     "text": [
      "Iteration: 101 | disc_loss: -0.10574612766504288 | gen_loss: 0.06353749334812164\n",
      "Iteration: 102 | disc_loss: -0.1162513718008995 | gen_loss: 0.04865505173802376\n",
      "Iteration: 103 | disc_loss: -0.1008068174123764 | gen_loss: 0.06100066378712654\n",
      "Iteration: 104 | disc_loss: -0.10620395094156265 | gen_loss: 0.04881802946329117\n",
      "Iteration: 105 | disc_loss: -0.1074962243437767 | gen_loss: 0.07141239196062088\n",
      "Iteration: 106 | disc_loss: -0.11240304261445999 | gen_loss: 0.06099093705415726\n"
     ]
    },
    {
     "name": "stderr",
     "output_type": "stream",
     "text": [
      " 56%|████████████████████████████████████████████████████████████████████████████████████████████████▍                                                                            | 112/201 [00:07<00:04, 21.89it/s]"
     ]
    },
    {
     "name": "stdout",
     "output_type": "stream",
     "text": [
      "Iteration: 107 | disc_loss: -0.07302835583686829 | gen_loss: 0.06686458736658096\n",
      "Iteration: 108 | disc_loss: -0.1030527800321579 | gen_loss: 0.06180825084447861\n",
      "Iteration: 109 | disc_loss: -0.08006702363491058 | gen_loss: 0.07404161244630814\n",
      "Iteration: 110 | disc_loss: -0.1120559573173523 | gen_loss: 0.060009319335222244\n",
      "Iteration: 111 | disc_loss: -0.056902192533016205 | gen_loss: 0.08223814517259598\n",
      "Iteration: 112 | disc_loss: -0.07705160975456238 | gen_loss: 0.07209475338459015\n"
     ]
    },
    {
     "name": "stderr",
     "output_type": "stream",
     "text": [
      " 59%|█████████████████████████████████████████████████████████████████████████████████████████████████████▌                                                                       | 118/201 [00:08<00:03, 21.19it/s]"
     ]
    },
    {
     "name": "stdout",
     "output_type": "stream",
     "text": [
      "Iteration: 113 | disc_loss: -0.1098594218492508 | gen_loss: 0.0636521577835083\n",
      "Iteration: 114 | disc_loss: -0.11458580940961838 | gen_loss: 0.05217098072171211\n",
      "Iteration: 115 | disc_loss: -0.12152065336704254 | gen_loss: 0.042502596974372864\n",
      "Iteration: 116 | disc_loss: -0.12136457115411758 | gen_loss: 0.056907132267951965\n",
      "Iteration: 117 | disc_loss: -0.12339671701192856 | gen_loss: 0.06458447128534317\n"
     ]
    },
    {
     "name": "stderr",
     "output_type": "stream",
     "text": [
      " 61%|█████████████████████████████████████████████████████████████████████████████████████████████████████████▊                                                                   | 123/201 [00:08<00:04, 18.88it/s]"
     ]
    },
    {
     "name": "stdout",
     "output_type": "stream",
     "text": [
      "Iteration: 118 | disc_loss: -0.11071594059467316 | gen_loss: 0.08865264058113098\n",
      "Iteration: 119 | disc_loss: -0.09761092066764832 | gen_loss: 0.03804926946759224\n",
      "Iteration: 120 | disc_loss: -0.11641979962587357 | gen_loss: 0.07409647107124329\n",
      "Iteration: 121 | disc_loss: -0.11264143139123917 | gen_loss: 0.07339129596948624\n",
      "Iteration: 122 | disc_loss: -0.12114402651786804 | gen_loss: 0.052822209894657135\n"
     ]
    },
    {
     "name": "stderr",
     "output_type": "stream",
     "text": [
      " 64%|██████████████████████████████████████████████████████████████████████████████████████████████████████████████▏                                                              | 128/201 [00:08<00:03, 19.32it/s]"
     ]
    },
    {
     "name": "stdout",
     "output_type": "stream",
     "text": [
      "Iteration: 123 | disc_loss: -0.12699046730995178 | gen_loss: 0.046527303755283356\n",
      "Iteration: 124 | disc_loss: -0.1165984496474266 | gen_loss: 0.06915487349033356\n",
      "Iteration: 125 | disc_loss: -0.11814463883638382 | gen_loss: 0.05214148759841919\n",
      "Iteration: 126 | disc_loss: -0.12277288734912872 | gen_loss: 0.04618670791387558\n",
      "Iteration: 127 | disc_loss: -0.10470836609601974 | gen_loss: 0.0992489606142044\n"
     ]
    },
    {
     "name": "stderr",
     "output_type": "stream",
     "text": [
      "\r",
      " 65%|████████████████████████████████████████████████████████████████████████████████████████████████████████████████▊                                                            | 131/201 [00:08<00:03, 20.25it/s]"
     ]
    },
    {
     "name": "stdout",
     "output_type": "stream",
     "text": [
      "Iteration: 128 | disc_loss: -0.10827147960662842 | gen_loss: 0.07119563221931458\n",
      "Iteration: 129 | disc_loss: -0.10512521117925644 | gen_loss: 0.0400749146938324\n",
      "Iteration: 130 | disc_loss: -0.11133939772844315 | gen_loss: 0.07547464966773987\n",
      "Iteration: 131 | disc_loss: -0.1053648442029953 | gen_loss: 0.0532853901386261\n",
      "Iteration: 132 | disc_loss: -0.11682090908288956 | gen_loss: 0.05749177560210228\n"
     ]
    },
    {
     "name": "stderr",
     "output_type": "stream",
     "text": [
      " 68%|█████████████████████████████████████████████████████████████████████████████████████████████████████████████████████▉                                                       | 137/201 [00:09<00:03, 20.89it/s]"
     ]
    },
    {
     "name": "stdout",
     "output_type": "stream",
     "text": [
      "Iteration: 133 | disc_loss: -0.12022676318883896 | gen_loss: 0.05581923574209213\n",
      "Iteration: 134 | disc_loss: -0.1114683598279953 | gen_loss: 0.06846491992473602\n",
      "Iteration: 135 | disc_loss: -0.11266078054904938 | gen_loss: 0.05437691509723663\n",
      "Iteration: 136 | disc_loss: -0.12407863140106201 | gen_loss: 0.027069998905062675\n",
      "Iteration: 137 | disc_loss: -0.11805849522352219 | gen_loss: 0.0910140722990036\n"
     ]
    },
    {
     "name": "stderr",
     "output_type": "stream",
     "text": [
      " 71%|███████████████████████████████████████████████████████████████████████████████████████████████████████████████████████████                                                  | 143/201 [00:09<00:02, 20.88it/s]"
     ]
    },
    {
     "name": "stdout",
     "output_type": "stream",
     "text": [
      "Iteration: 138 | disc_loss: -0.11695513129234314 | gen_loss: 0.0667540431022644\n",
      "Iteration: 139 | disc_loss: -0.1215074360370636 | gen_loss: 0.05822981894016266\n",
      "Iteration: 140 | disc_loss: -0.12727521359920502 | gen_loss: 0.045459043234586716\n",
      "Iteration: 141 | disc_loss: -0.11657104641199112 | gen_loss: 0.06942568719387054\n",
      "Iteration: 142 | disc_loss: -0.13068053126335144 | gen_loss: 0.043413471430540085\n"
     ]
    },
    {
     "name": "stderr",
     "output_type": "stream",
     "text": [
      "\r",
      " 73%|█████████████████████████████████████████████████████████████████████████████████████████████████████████████████████████████▋                                               | 146/201 [00:09<00:02, 20.67it/s]"
     ]
    },
    {
     "name": "stdout",
     "output_type": "stream",
     "text": [
      "Iteration: 143 | disc_loss: -0.11979418247938156 | gen_loss: 0.07240290194749832\n",
      "Iteration: 144 | disc_loss: -0.1122768297791481 | gen_loss: 0.0646645575761795\n",
      "Iteration: 145 | disc_loss: -0.12088547646999359 | gen_loss: 0.05829072371125221\n",
      "Iteration: 146 | disc_loss: -0.1286534070968628 | gen_loss: 0.05970389395952225\n",
      "Iteration: 147 | disc_loss: -0.10343305766582489 | gen_loss: 0.05488872900605202\n"
     ]
    },
    {
     "name": "stderr",
     "output_type": "stream",
     "text": [
      " 76%|██████████████████████████████████████████████████████████████████████████████████████████████████████████████████████████████████▊                                          | 152/201 [00:09<00:02, 20.96it/s]"
     ]
    },
    {
     "name": "stdout",
     "output_type": "stream",
     "text": [
      "Iteration: 148 | disc_loss: -0.12406706809997559 | gen_loss: 0.05994107946753502\n",
      "Iteration: 149 | disc_loss: -0.12378546595573425 | gen_loss: 0.0491337813436985\n",
      "Iteration: 150 | disc_loss: -0.12239436060190201 | gen_loss: 0.06700676679611206\n",
      "Iteration: 151 | disc_loss: -0.1178332269191742 | gen_loss: 0.053754087537527084\n",
      "Iteration: 152 | disc_loss: -0.13023978471755981 | gen_loss: 0.054529838263988495\n"
     ]
    },
    {
     "name": "stderr",
     "output_type": "stream",
     "text": [
      " 79%|███████████████████████████████████████████████████████████████████████████████████████████████████████████████████████████████████████▉                                     | 158/201 [00:10<00:01, 22.32it/s]"
     ]
    },
    {
     "name": "stdout",
     "output_type": "stream",
     "text": [
      "Iteration: 153 | disc_loss: -0.12523019313812256 | gen_loss: 0.0657610222697258\n",
      "Iteration: 154 | disc_loss: -0.11011293530464172 | gen_loss: 0.0775289535522461\n",
      "Iteration: 155 | disc_loss: -0.10845863074064255 | gen_loss: 0.06293870508670807\n",
      "Iteration: 156 | disc_loss: -0.06836603581905365 | gen_loss: 0.060009364038705826\n",
      "Iteration: 157 | disc_loss: -0.11836893856525421 | gen_loss: 0.05330955982208252\n",
      "Iteration: 158 | disc_loss: -0.054604917764663696 | gen_loss: 0.05990493297576904\n"
     ]
    },
    {
     "name": "stderr",
     "output_type": "stream",
     "text": [
      " 82%|█████████████████████████████████████████████████████████████████████████████████████████████████████████████████████████████████████████████▏                               | 164/201 [00:10<00:01, 21.88it/s]"
     ]
    },
    {
     "name": "stdout",
     "output_type": "stream",
     "text": [
      "Iteration: 159 | disc_loss: -0.11863487958908081 | gen_loss: 0.05734117329120636\n",
      "Iteration: 160 | disc_loss: -0.11508360505104065 | gen_loss: 0.044712428003549576\n",
      "Iteration: 161 | disc_loss: -0.12700247764587402 | gen_loss: 0.04335514456033707\n",
      "Iteration: 162 | disc_loss: -0.1302424818277359 | gen_loss: 0.056969888508319855\n",
      "Iteration: 163 | disc_loss: -0.13373497128486633 | gen_loss: 0.042719483375549316\n"
     ]
    },
    {
     "name": "stderr",
     "output_type": "stream",
     "text": [
      " 85%|██████████████████████████████████████████████████████████████████████████████████████████████████████████████████████████████████████████████████▎                          | 170/201 [00:10<00:01, 22.44it/s]"
     ]
    },
    {
     "name": "stdout",
     "output_type": "stream",
     "text": [
      "Iteration: 164 | disc_loss: -0.11896372586488724 | gen_loss: 0.07490638643503189\n",
      "Iteration: 165 | disc_loss: -0.11368752270936966 | gen_loss: 0.06406886130571365\n",
      "Iteration: 166 | disc_loss: -0.13178421556949615 | gen_loss: 0.05270706117153168\n",
      "Iteration: 167 | disc_loss: -0.13097627460956573 | gen_loss: 0.045652277767658234\n",
      "Iteration: 168 | disc_loss: -0.12436436116695404 | gen_loss: 0.059254374355077744\n",
      "Iteration: 169 | disc_loss: -0.1322907954454422 | gen_loss: 0.03905865550041199\n"
     ]
    },
    {
     "name": "stderr",
     "output_type": "stream",
     "text": [
      "\r",
      " 86%|████████████████████████████████████████████████████████████████████████████████████████████████████████████████████████████████████████████████████▉                        | 173/201 [00:10<00:01, 22.44it/s]"
     ]
    },
    {
     "name": "stdout",
     "output_type": "stream",
     "text": [
      "Iteration: 170 | disc_loss: -0.12027464061975479 | gen_loss: 0.03745361790060997\n",
      "Iteration: 171 | disc_loss: -0.12924791872501373 | gen_loss: 0.05136800557374954\n",
      "Iteration: 172 | disc_loss: -0.13331176340579987 | gen_loss: 0.0631503164768219\n",
      "Iteration: 173 | disc_loss: -0.12756973505020142 | gen_loss: 0.06984952092170715\n",
      "Iteration: 174 | disc_loss: -0.12822803854942322 | gen_loss: 0.03580115735530853\n"
     ]
    },
    {
     "name": "stderr",
     "output_type": "stream",
     "text": [
      " 89%|██████████████████████████████████████████████████████████████████████████████████████████████████████████████████████████████████████████████████████████                   | 179/201 [00:11<00:01, 21.56it/s]"
     ]
    },
    {
     "name": "stdout",
     "output_type": "stream",
     "text": [
      "Iteration: 175 | disc_loss: -0.12904417514801025 | gen_loss: 0.059928786009550095\n",
      "Iteration: 176 | disc_loss: -0.12937985360622406 | gen_loss: 0.05955524742603302\n",
      "Iteration: 177 | disc_loss: -0.1280825436115265 | gen_loss: 0.05449032038450241\n",
      "Iteration: 178 | disc_loss: -0.1306900829076767 | gen_loss: 0.029704060405492783\n"
     ]
    },
    {
     "name": "stderr",
     "output_type": "stream",
     "text": [
      " 92%|███████████████████████████████████████████████████████████████████████████████████████████████████████████████████████████████████████████████████████████████▏             | 185/201 [00:11<00:00, 20.81it/s]"
     ]
    },
    {
     "name": "stdout",
     "output_type": "stream",
     "text": [
      "Iteration: 179 | disc_loss: -0.12952278554439545 | gen_loss: 0.0848495289683342\n",
      "Iteration: 180 | disc_loss: -0.08518935739994049 | gen_loss: 0.07251490652561188\n",
      "Iteration: 181 | disc_loss: -0.12159845232963562 | gen_loss: 0.05155080556869507\n",
      "Iteration: 182 | disc_loss: -0.12510356307029724 | gen_loss: 0.05322078615427017\n",
      "Iteration: 183 | disc_loss: -0.10629263520240784 | gen_loss: 0.05294547230005264\n",
      "Iteration: 184 | disc_loss: -0.10994640737771988 | gen_loss: 0.06737673282623291\n"
     ]
    },
    {
     "name": "stderr",
     "output_type": "stream",
     "text": [
      "\r",
      " 94%|█████████████████████████████████████████████████████████████████████████████████████████████████████████████████████████████████████████████████████████████████▊           | 188/201 [00:11<00:00, 19.92it/s]"
     ]
    },
    {
     "name": "stdout",
     "output_type": "stream",
     "text": [
      "Iteration: 185 | disc_loss: -0.11783415824174881 | gen_loss: 0.05823980271816254\n",
      "Iteration: 186 | disc_loss: -0.1296212375164032 | gen_loss: 0.04892510920763016\n",
      "Iteration: 187 | disc_loss: -0.13024988770484924 | gen_loss: 0.05282668024301529\n",
      "Iteration: 188 | disc_loss: -0.12035798281431198 | gen_loss: 0.057368963956832886\n",
      "Iteration: 189 | disc_loss: -0.1342090666294098 | gen_loss: 0.04544766992330551\n"
     ]
    },
    {
     "name": "stderr",
     "output_type": "stream",
     "text": [
      " 97%|██████████████████████████████████████████████████████████████████████████████████████████████████████████████████████████████████████████████████████████████████████▉      | 194/201 [00:11<00:00, 20.89it/s]"
     ]
    },
    {
     "name": "stdout",
     "output_type": "stream",
     "text": [
      "Iteration: 190 | disc_loss: -0.1276920884847641 | gen_loss: 0.0590265691280365\n",
      "Iteration: 191 | disc_loss: -0.11511756479740143 | gen_loss: 0.045792028307914734\n",
      "Iteration: 192 | disc_loss: -0.12603576481342316 | gen_loss: 0.05303044989705086\n",
      "Iteration: 193 | disc_loss: -0.127083420753479 | gen_loss: 0.050557561218738556\n",
      "Iteration: 194 | disc_loss: -0.10821297764778137 | gen_loss: 0.05444476008415222\n"
     ]
    },
    {
     "name": "stderr",
     "output_type": "stream",
     "text": [
      "100%|████████████████████████████████████████████████████████████████████████████████████████████████████████████████████████████████████████████████████████████████████████████▏| 200/201 [00:12<00:00, 22.34it/s]"
     ]
    },
    {
     "name": "stdout",
     "output_type": "stream",
     "text": [
      "Iteration: 195 | disc_loss: -0.11073752492666245 | gen_loss: 0.0547836497426033\n",
      "Iteration: 196 | disc_loss: -0.13001839816570282 | gen_loss: 0.028757404536008835\n",
      "Iteration: 197 | disc_loss: -0.12803515791893005 | gen_loss: 0.05500848591327667\n",
      "Iteration: 198 | disc_loss: -0.12279795855283737 | gen_loss: 0.042554549872875214\n",
      "Iteration: 199 | disc_loss: -0.12863697111606598 | gen_loss: 0.03555373102426529\n",
      "Iteration: 200 | disc_loss: -0.13135895133018494 | gen_loss: 0.04878925159573555\n"
     ]
    },
    {
     "name": "stderr",
     "output_type": "stream",
     "text": [
      "100%|█████████████████████████████████████████████████████████████████████████████████████████████████████████████████████████████████████████████████████████████████████████████| 201/201 [00:12<00:00, 16.54it/s]\n",
      "100%|██████████████████████████████████████████████████████████████████████████████████████████████████████████████████████████████████████████████████████████████████████████████| 79/79 [00:00<00:00, 301.19it/s]\n"
     ]
    }
   ],
   "source": [
    "# WGAN_GP training\n",
    "noise_dim = 32\n",
    "dim = 128\n",
    "batch_size = 128\n",
    "\n",
    "log_step = 100\n",
    "epochs = 200+1\n",
    "learning_rate = 5e-4\n",
    "beta_1 = 0.5\n",
    "beta_2 = 0.9\n",
    "models_dir = './cache'\n",
    "\n",
    "gan_args = [batch_size, learning_rate, beta_1, beta_2, noise_dim, processed_data.shape[1], dim]\n",
    "train_args = ['', epochs, log_step]\n",
    "\n",
    "synthesizer = model.WGAN_GP(gan_args, n_critic=2)\n",
    "synthesizer.train(processed_data, train_args)\n",
    "\n",
    "#Generate data\n",
    "synth_data = synthesizer.sample(10000)\n"
   ]
  },
  {
   "cell_type": "code",
   "execution_count": 16,
   "id": "matched-slovak",
   "metadata": {},
   "outputs": [],
   "source": [
    "# Rename target variable to make it uniformed\n",
    "synth_data.iloc[:,-1] = synth_data.iloc[:,-1].round()\n",
    "synth_data.rename(columns={synth_data.columns[-1]: \"target\"}, inplace = True)"
   ]
  },
  {
   "cell_type": "code",
   "execution_count": 17,
   "id": "helpful-adrian",
   "metadata": {},
   "outputs": [
    {
     "name": "stdout",
     "output_type": "stream",
     "text": [
      "Top 5 PCA components:\n",
      "   real_data_pca  fake_data_pca\n",
      "0       1.503980       0.139497\n",
      "1       1.055128       0.102808\n",
      "2       1.013307       0.082029\n",
      "3       0.936112       0.047326\n",
      "4       0.905934       0.032910\n"
     ]
    }
   ],
   "source": [
    "eval_class = evaluator.EvaluateData(processed_data, synth_data, 10000)\n",
    "score_pca = eval_class.pca_correlation()\n",
    "results, score_ml = eval_class.set_ml_estimation()"
   ]
  },
  {
   "cell_type": "code",
   "execution_count": 18,
   "id": "precious-yukon",
   "metadata": {},
   "outputs": [
    {
     "data": {
      "text/html": [
       "<div>\n",
       "<style scoped>\n",
       "    .dataframe tbody tr th:only-of-type {\n",
       "        vertical-align: middle;\n",
       "    }\n",
       "\n",
       "    .dataframe tbody tr th {\n",
       "        vertical-align: top;\n",
       "    }\n",
       "\n",
       "    .dataframe thead th {\n",
       "        text-align: right;\n",
       "    }\n",
       "</style>\n",
       "<table border=\"1\" class=\"dataframe\">\n",
       "  <thead>\n",
       "    <tr style=\"text-align: right;\">\n",
       "      <th></th>\n",
       "      <th>real_data_f1</th>\n",
       "      <th>fake_data_f1</th>\n",
       "    </tr>\n",
       "    <tr>\n",
       "      <th>index</th>\n",
       "      <th></th>\n",
       "      <th></th>\n",
       "    </tr>\n",
       "  </thead>\n",
       "  <tbody>\n",
       "    <tr>\n",
       "      <th>LogisticRegression_real_test</th>\n",
       "      <td>0.851333</td>\n",
       "      <td>0.672400</td>\n",
       "    </tr>\n",
       "    <tr>\n",
       "      <th>LogisticRegression_fake_test</th>\n",
       "      <td>0.980000</td>\n",
       "      <td>0.983733</td>\n",
       "    </tr>\n",
       "    <tr>\n",
       "      <th>DecisionTreeClassifier_real_test</th>\n",
       "      <td>0.999867</td>\n",
       "      <td>0.601067</td>\n",
       "    </tr>\n",
       "    <tr>\n",
       "      <th>DecisionTreeClassifier_fake_test</th>\n",
       "      <td>0.980000</td>\n",
       "      <td>1.000000</td>\n",
       "    </tr>\n",
       "    <tr>\n",
       "      <th>RandomForestClassifier_real_test</th>\n",
       "      <td>0.993467</td>\n",
       "      <td>0.394267</td>\n",
       "    </tr>\n",
       "    <tr>\n",
       "      <th>RandomForestClassifier_fake_test</th>\n",
       "      <td>0.980000</td>\n",
       "      <td>0.999467</td>\n",
       "    </tr>\n",
       "  </tbody>\n",
       "</table>\n",
       "</div>"
      ],
      "text/plain": [
       "                                  real_data_f1  fake_data_f1\n",
       "index                                                       \n",
       "LogisticRegression_real_test          0.851333      0.672400\n",
       "LogisticRegression_fake_test          0.980000      0.983733\n",
       "DecisionTreeClassifier_real_test      0.999867      0.601067\n",
       "DecisionTreeClassifier_fake_test      0.980000      1.000000\n",
       "RandomForestClassifier_real_test      0.993467      0.394267\n",
       "RandomForestClassifier_fake_test      0.980000      0.999467"
      ]
     },
     "execution_count": 18,
     "metadata": {},
     "output_type": "execute_result"
    }
   ],
   "source": [
    "results"
   ]
  },
  {
   "cell_type": "code",
   "execution_count": 21,
   "id": "approved-april",
   "metadata": {},
   "outputs": [
    {
     "name": "stdout",
     "output_type": "stream",
     "text": [
      "ML evaluation score 0.7906240932066106\n",
      "PCA evaluation score 0.07160467472780285\n"
     ]
    }
   ],
   "source": [
    "print(\"ML evaluation score\", score_ml)\n",
    "print(\"PCA evaluation score\", score_pca)"
   ]
  },
  {
   "cell_type": "markdown",
   "id": "animated-albany",
   "metadata": {},
   "source": [
    "The PCA score seeems to be that low because categorical variable are generated the same way as numerical."
   ]
  },
  {
   "cell_type": "markdown",
   "id": "adjacent-ocean",
   "metadata": {},
   "source": [
    "## 3. Advice on WGAN-GP"
   ]
  },
  {
   "cell_type": "markdown",
   "id": "compressed-anthony",
   "metadata": {},
   "source": [
    "1. Right now we sample initial fake data for the categorical variables the same way as for the numerical. This leads to some bizarre values in categorical columns. We should use something like Gumbel-Softmax distribution to sample from. This way we will get real one-hot encoded categorical outputs.\n",
    "2. In data processing we should also add a target variable, not only features.\n",
    "3. The architecture itself could be improved by adding a batch normalization layer.\n",
    "4. Another idea is to use Banach Wasserstein GAN architecture, which was not really done to tabular data, but shows some improvements in picture generation."
   ]
  }
 ],
 "metadata": {
  "kernelspec": {
   "display_name": "Python 3",
   "language": "python",
   "name": "python3"
  },
  "language_info": {
   "codemirror_mode": {
    "name": "ipython",
    "version": 3
   },
   "file_extension": ".py",
   "mimetype": "text/x-python",
   "name": "python",
   "nbconvert_exporter": "python",
   "pygments_lexer": "ipython3",
   "version": "3.8.7"
  }
 },
 "nbformat": 4,
 "nbformat_minor": 5
}
